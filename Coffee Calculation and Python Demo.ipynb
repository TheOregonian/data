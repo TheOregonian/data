{
 "cells": [
  {
   "cell_type": "markdown",
   "metadata": {},
   "source": [
    "# Calculating Coffee"
   ]
  },
  {
   "cell_type": "code",
   "execution_count": 64,
   "metadata": {
    "collapsed": true
   },
   "outputs": [],
   "source": [
    "# in dollars\n",
    "cost = 12.99\n",
    "\n",
    "# 1 pound in grams\n",
    "gram = 454\n",
    "\n",
    "# mass in grams\n",
    "tablespoon_grams = 7\n",
    "\n",
    "# in ounces\n",
    "ounces_water_per_tablespoon = 4\n",
    "\n",
    "# in ounces\n",
    "cup = 8"
   ]
  },
  {
   "cell_type": "code",
   "execution_count": 65,
   "metadata": {
    "collapsed": false
   },
   "outputs": [
    {
     "data": {
      "text/plain": [
       "0.028612334801762115"
      ]
     },
     "execution_count": 65,
     "metadata": {},
     "output_type": "execute_result"
    }
   ],
   "source": [
    "# price per gram\n",
    "\n",
    "cost/gram"
   ]
  },
  {
   "cell_type": "code",
   "execution_count": 66,
   "metadata": {
    "collapsed": false
   },
   "outputs": [
    {
     "name": "stdout",
     "output_type": "stream",
     "text": [
      "0.2\n"
     ]
    }
   ],
   "source": [
    "# cost in dollars per tablespoon of coffee,\n",
    "# rounded to two decimal places\n",
    "\n",
    "tablespoon_cost = round((cost/gram)*tablespoon_grams,2)\n",
    "print(tablespoon_cost)"
   ]
  },
  {
   "cell_type": "code",
   "execution_count": 67,
   "metadata": {
    "collapsed": false
   },
   "outputs": [
    {
     "data": {
      "text/plain": [
       "0.4"
      ]
     },
     "execution_count": 67,
     "metadata": {},
     "output_type": "execute_result"
    }
   ],
   "source": [
    "# cost per cup, given cup = 8 ounces\n",
    "# and a ratio of 4 ounces water to one tablespoon\n",
    "\n",
    "(cup/ounces_water_per_tablespoon)*tablespoon_cost"
   ]
  }
 ],
 "metadata": {
  "kernelspec": {
   "display_name": "Python 3",
   "language": "python",
   "name": "python3"
  },
  "language_info": {
   "codemirror_mode": {
    "name": "ipython",
    "version": 3
   },
   "file_extension": ".py",
   "mimetype": "text/x-python",
   "name": "python",
   "nbconvert_exporter": "python",
   "pygments_lexer": "ipython3",
   "version": "3.5.2"
  }
 },
 "nbformat": 4,
 "nbformat_minor": 1
}
